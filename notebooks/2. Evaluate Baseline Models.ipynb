{
 "cells": [
  {
   "cell_type": "code",
   "execution_count": 1,
   "id": "f61c1033",
   "metadata": {},
   "outputs": [],
   "source": [
    "import os\n",
    "import joblib\n",
    "import json\n",
    "import pandas as pd\n",
    "import numpy as np\n",
    "import matplotlib.pyplot as plt\n",
    "import seaborn as sns\n",
    "\n",
    "from sklearn.metrics import (\n",
    "    accuracy_score, classification_report, confusion_matrix\n",
    ")\n",
    "\n",
    "MODEL_DIR = \"../src/models\"\n",
    "DATA_PATH = \"../data/processed/cleaned_combined_data_utf8.csv\""
   ]
  },
  {
   "cell_type": "code",
   "execution_count": 2,
   "id": "3c7954f6",
   "metadata": {},
   "outputs": [
    {
     "name": "stdout",
     "output_type": "stream",
     "text": [
      "Dataset shape: (12471, 7)\n",
      "Categories: category\n",
      "anxiety       1987\n",
      "psychosis     1841\n",
      "addiction     1740\n",
      "ptsd           994\n",
      "bipolar        973\n",
      "bpd            967\n",
      "ocd            962\n",
      "autism         902\n",
      "suicide        827\n",
      "depression     726\n",
      "adhd           552\n",
      "Name: count, dtype: int64\n"
     ]
    }
   ],
   "source": [
    "df = pd.read_csv(DATA_PATH)\n",
    "\n",
    "print(f\"Dataset shape: {df.shape}\")\n",
    "print(\"Categories:\", df['category'].value_counts())\n",
    "\n",
    "X = df['combined_text']\n",
    "y = df['category']"
   ]
  },
  {
   "cell_type": "code",
   "execution_count": 3,
   "id": "ae38fb6d",
   "metadata": {},
   "outputs": [
    {
     "name": "stdout",
     "output_type": "stream",
     "text": [
      "Saved training results:\n",
      "{\n",
      "  \"timestamp\": \"20250907_094642\",\n",
      "  \"logistic_regression_accuracy\": 0.7326653306613227,\n",
      "  \"random_forest_accuracy\": 0.6949899799599198,\n",
      "  \"models_saved\": [\n",
      "    \"baseline_logistic_regression.pkl\",\n",
      "    \"baseline_random_forest.pkl\"\n",
      "  ],\n",
      "  \"vectorizer_saved\": \"tfidf_vectorizer.pkl\"\n",
      "}\n"
     ]
    }
   ],
   "source": [
    "log_reg = joblib.load(os.path.join(MODEL_DIR, \"baseline_logistic_regression.pkl\"))\n",
    "rand_forest = joblib.load(os.path.join(MODEL_DIR, \"baseline_random_forest.pkl\"))\n",
    "vectorizer = joblib.load(os.path.join(MODEL_DIR, \"tfidf_vectorizer.pkl\"))\n",
    "\n",
    "with open(os.path.join(MODEL_DIR, \"baseline_results.json\"), \"r\") as f:\n",
    "    results_summary = json.load(f)\n",
    "\n",
    "print(\"Saved training results:\")\n",
    "print(json.dumps(results_summary, indent=2))"
   ]
  },
  {
   "cell_type": "code",
   "execution_count": 4,
   "id": "8a4250aa",
   "metadata": {},
   "outputs": [],
   "source": [
    "from sklearn.model_selection import train_test_split\n",
    "\n",
    "X_train, X_test, y_train, y_test = train_test_split(\n",
    "    X, y, test_size=0.2, random_state=42, stratify=y\n",
    ")\n",
    "X_test_tfidf = vectorizer.transform(X_test)"
   ]
  },
  {
   "cell_type": "code",
   "execution_count": 5,
   "id": "b6456da3",
   "metadata": {},
   "outputs": [
    {
     "name": "stdout",
     "output_type": "stream",
     "text": [
      "Logistic Regression Report\n",
      "              precision    recall  f1-score   support\n",
      "\n",
      "   addiction       0.90      0.90      0.90       348\n",
      "        adhd       0.68      0.69      0.68       110\n",
      "     anxiety       0.78      0.75      0.77       398\n",
      "      autism       0.59      0.72      0.65       180\n",
      "     bipolar       0.71      0.64      0.67       195\n",
      "         bpd       0.74      0.77      0.76       194\n",
      "  depression       0.39      0.46      0.42       145\n",
      "         ocd       0.83      0.82      0.83       193\n",
      "   psychosis       0.85      0.71      0.77       368\n",
      "        ptsd       0.75      0.72      0.74       199\n",
      "     suicide       0.54      0.66      0.59       165\n",
      "\n",
      "    accuracy                           0.73      2495\n",
      "   macro avg       0.71      0.71      0.71      2495\n",
      "weighted avg       0.74      0.73      0.74      2495\n",
      "\n",
      "\n",
      "Logistic Regression Metrics:\n",
      "Accuracy: 0.7327\n",
      "Precision (Macro): 0.7065\n",
      "Recall (Macro):    0.7120\n",
      "F1 Score (Macro):  0.7070\n",
      "Precision (Weighted): 0.7443\n",
      "Recall (Weighted):    0.7327\n",
      "F1 Score (Weighted):  0.7362\n"
     ]
    }
   ],
   "source": [
    "from sklearn.metrics import precision_score, recall_score, f1_score\n",
    "\n",
    "lr_pred = log_reg.predict(X_test_tfidf)\n",
    "\n",
    "print(\"Logistic Regression Report\")\n",
    "print(classification_report(y_test, lr_pred))\n",
    "\n",
    "lr_acc = accuracy_score(y_test, lr_pred)\n",
    "lr_prec_macro = precision_score(y_test, lr_pred, average=\"macro\")\n",
    "lr_recall_macro = recall_score(y_test, lr_pred, average=\"macro\")\n",
    "lr_f1_macro = f1_score(y_test, lr_pred, average=\"macro\")\n",
    "\n",
    "lr_prec_weighted = precision_score(y_test, lr_pred, average=\"weighted\")\n",
    "lr_recall_weighted = recall_score(y_test, lr_pred, average=\"weighted\")\n",
    "lr_f1_weighted = f1_score(y_test, lr_pred, average=\"weighted\")\n",
    "\n",
    "print(f\"\\nLogistic Regression Metrics:\")\n",
    "print(f\"Accuracy: {lr_acc:.4f}\")\n",
    "print(f\"Precision (Macro): {lr_prec_macro:.4f}\")\n",
    "print(f\"Recall (Macro):    {lr_recall_macro:.4f}\")\n",
    "print(f\"F1 Score (Macro):  {lr_f1_macro:.4f}\")\n",
    "print(f\"Precision (Weighted): {lr_prec_weighted:.4f}\")\n",
    "print(f\"Recall (Weighted):    {lr_recall_weighted:.4f}\")\n",
    "print(f\"F1 Score (Weighted):  {lr_f1_weighted:.4f}\")"
   ]
  },
  {
   "cell_type": "code",
   "execution_count": 6,
   "id": "1f5c6283",
   "metadata": {},
   "outputs": [
    {
     "name": "stdout",
     "output_type": "stream",
     "text": [
      "Random Forest Report\n",
      "              precision    recall  f1-score   support\n",
      "\n",
      "   addiction       0.82      0.87      0.84       348\n",
      "        adhd       0.69      0.67      0.68       110\n",
      "     anxiety       0.81      0.72      0.76       398\n",
      "      autism       0.41      0.76      0.53       180\n",
      "     bipolar       0.69      0.63      0.66       195\n",
      "         bpd       0.75      0.69      0.72       194\n",
      "  depression       0.40      0.38      0.39       145\n",
      "         ocd       0.79      0.80      0.80       193\n",
      "   psychosis       0.90      0.59      0.71       368\n",
      "        ptsd       0.81      0.70      0.75       199\n",
      "     suicide       0.48      0.68      0.56       165\n",
      "\n",
      "    accuracy                           0.69      2495\n",
      "   macro avg       0.69      0.68      0.67      2495\n",
      "weighted avg       0.73      0.69      0.70      2495\n",
      "\n",
      "\n",
      "Random Forest Metrics:\n",
      "Accuracy: 0.6950\n",
      "Precision (Macro): 0.6869\n",
      "Recall (Macro):    0.6805\n",
      "F1 Score (Macro):  0.6736\n",
      "Precision (Weighted): 0.7301\n",
      "Recall (Weighted):    0.6950\n",
      "F1 Score (Weighted):  0.7019\n"
     ]
    }
   ],
   "source": [
    "rf_pred = rand_forest.predict(X_test_tfidf)\n",
    "\n",
    "print(\"Random Forest Report\")\n",
    "print(classification_report(y_test, rf_pred))\n",
    "\n",
    "rf_acc = accuracy_score(y_test, rf_pred)\n",
    "rf_prec_macro = precision_score(y_test, rf_pred, average=\"macro\")\n",
    "rf_recall_macro = recall_score(y_test, rf_pred, average=\"macro\")\n",
    "rf_f1_macro = f1_score(y_test, rf_pred, average=\"macro\")\n",
    "\n",
    "rf_prec_weighted = precision_score(y_test, rf_pred, average=\"weighted\")\n",
    "rf_recall_weighted = recall_score(y_test, rf_pred, average=\"weighted\")\n",
    "rf_f1_weighted = f1_score(y_test, rf_pred, average=\"weighted\")\n",
    "\n",
    "print(f\"\\nRandom Forest Metrics:\")\n",
    "print(f\"Accuracy: {rf_acc:.4f}\")\n",
    "print(f\"Precision (Macro): {rf_prec_macro:.4f}\")\n",
    "print(f\"Recall (Macro):    {rf_recall_macro:.4f}\")\n",
    "print(f\"F1 Score (Macro):  {rf_f1_macro:.4f}\")\n",
    "print(f\"Precision (Weighted): {rf_prec_weighted:.4f}\")\n",
    "print(f\"Recall (Weighted):    {rf_recall_weighted:.4f}\")\n",
    "print(f\"F1 Score (Weighted):  {rf_f1_weighted:.4f}\")"
   ]
  },
  {
   "cell_type": "code",
   "execution_count": 7,
   "id": "e8101eb2",
   "metadata": {},
   "outputs": [
    {
     "data": {
      "image/png": "[encoded data removed]",
      "text/plain": [
       "<Figure size 800x600 with 1 Axes>"
      ]
     },
     "metadata": {},
     "output_type": "display_data"
    }
   ],
   "source": [
    "metrics_df = pd.DataFrame({\n",
    "    \"Model\": [\"Logistic Regression\", \"Logistic Regression\", \"Logistic Regression\",\n",
    "              \"Random Forest\", \"Random Forest\", \"Random Forest\"],\n",
    "    \"Metric\": [\"Precision (Macro)\", \"Recall (Macro)\", \"F1 (Macro)\",\n",
    "               \"Precision (Macro)\", \"Recall (Macro)\", \"F1 (Macro)\"],\n",
    "    \"Score\": [lr_prec_macro, lr_recall_macro, lr_f1_macro,\n",
    "              rf_prec_macro, rf_recall_macro, rf_f1_macro]\n",
    "})\n",
    "\n",
    "plt.figure(figsize=(8,6))\n",
    "sns.barplot(x=\"Metric\", y=\"Score\", hue=\"Model\", data=metrics_df)\n",
    "plt.ylim(0,1)\n",
    "plt.title(\"Macro Precision, Recall, F1 Comparison\")\n",
    "plt.show()"
   ]
  },
  {
   "cell_type": "code",
   "execution_count": null,
   "id": "adc71546",
   "metadata": {},
   "outputs": [
    {
     "data": {
      "text/html": [
       "<div>\n",
       "<style scoped>\n",
       "    .dataframe tbody tr th:only-of-type {\n",
       "        vertical-align: middle;\n",
       "    }\n",
       "\n",
       "    .dataframe tbody tr th {\n",
       "        vertical-align: top;\n",
       "    }\n",
       "\n",
       "    .dataframe thead th {\n",
       "        text-align: right;\n",
       "    }\n",
       "</style>\n",
       "<table border=\"1\" class=\"dataframe\">\n",
       "  <thead>\n",
       "    <tr style=\"text-align: right;\">\n",
       "      <th></th>\n",
       "      <th>Text</th>\n",
       "      <th>Actual</th>\n",
       "      <th>LogReg_Pred</th>\n",
       "      <th>RF_Pred</th>\n",
       "    </tr>\n",
       "  </thead>\n",
       "  <tbody>\n",
       "    <tr>\n",
       "      <th>4093</th>\n",
       "      <td>Tell me what you're currently anxious about an...</td>\n",
       "      <td>anxiety</td>\n",
       "      <td>anxiety</td>\n",
       "      <td>anxiety</td>\n",
       "    </tr>\n",
       "    <tr>\n",
       "      <th>10910</th>\n",
       "      <td>Feelings of re-experiencing are distressing af...</td>\n",
       "      <td>ptsd</td>\n",
       "      <td>ptsd</td>\n",
       "      <td>ptsd</td>\n",
       "    </tr>\n",
       "    <tr>\n",
       "      <th>6152</th>\n",
       "      <td>App for us bipolars I want to build an app tha...</td>\n",
       "      <td>bipolar</td>\n",
       "      <td>bipolar</td>\n",
       "      <td>bipolar</td>\n",
       "    </tr>\n",
       "    <tr>\n",
       "      <th>3930</th>\n",
       "      <td>23 and never had an actual job, feeling lost. ...</td>\n",
       "      <td>anxiety</td>\n",
       "      <td>depression</td>\n",
       "      <td>bpd</td>\n",
       "    </tr>\n",
       "    <tr>\n",
       "      <th>1962</th>\n",
       "      <td>Mallinkrodt Generic = worthless Does anyone el...</td>\n",
       "      <td>adhd</td>\n",
       "      <td>adhd</td>\n",
       "      <td>adhd</td>\n",
       "    </tr>\n",
       "  </tbody>\n",
       "</table>\n",
       "</div>"
      ],
      "text/plain": [
       "                                                    Text   Actual LogReg_Pred  \\\n",
       "4093   Tell me what you're currently anxious about an...  anxiety     anxiety   \n",
       "10910  Feelings of re-experiencing are distressing af...     ptsd        ptsd   \n",
       "6152   App for us bipolars I want to build an app tha...  bipolar     bipolar   \n",
       "3930   23 and never had an actual job, feeling lost. ...  anxiety  depression   \n",
       "1962   Mallinkrodt Generic = worthless Does anyone el...     adhd        adhd   \n",
       "\n",
       "       RF_Pred  \n",
       "4093   anxiety  \n",
       "10910     ptsd  \n",
       "6152   bipolar  \n",
       "3930       bpd  \n",
       "1962      adhd  "
      ]
     },
     "execution_count": 8,
     "metadata": {},
     "output_type": "execute_result"
    }
   ],
   "source": [
    "sample_df = pd.DataFrame({\n",
    "    \"Text\": X_test.sample(5, random_state=42)\n",
    "})\n",
    "\n",
    "sample_df[\"Actual\"] = y_test.loc[sample_df.index]\n",
    "sample_df[\"LogReg_Pred\"] = log_reg.predict(vectorizer.transform(sample_df[\"Text\"]))\n",
    "sample_df[\"RF_Pred\"] = rand_forest.predict(vectorizer.transform(sample_df[\"Text\"]))\n",
    "\n",
    "sample_df"
   ]
  },
  {
   "cell_type": "code",
   "execution_count": null,
   "id": "c5b9d16c",
   "metadata": {},
   "outputs": [],
   "source": []
  }
 ],
 "metadata": {
  "kernelspec": {
   "display_name": "Python 3",
   "language": "python",
   "name": "python3"
  },
  "language_info": {
   "codemirror_mode": {
    "name": "ipython",
    "version": 3
   },
   "file_extension": ".py",
   "mimetype": "text/x-python",
   "name": "python",
   "nbconvert_exporter": "python",
   "pygments_lexer": "ipython3",
   "version": "3.11.9"
  }
 },
 "nbformat": 4,
 "nbformat_minor": 5
}
